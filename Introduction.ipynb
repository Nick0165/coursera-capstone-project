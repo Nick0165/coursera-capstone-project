{
 "cells": [
  {
   "cell_type": "markdown",
   "metadata": {},
   "source": [
    "# Student bar in Brussels Centre"
   ]
  },
  {
   "cell_type": "markdown",
   "metadata": {},
   "source": [
    "A client wants to open a new bar in Brussel centre but because of heavy competition he takes a very specific market approach: student focused."
   ]
  },
  {
   "cell_type": "markdown",
   "metadata": {},
   "source": [
    "Although a lot of students sleep in city centre, not much bars have student focus. Although there is a vivid nightlife in Brussels Centre but they blend in with the locals."
   ]
  },
  {
   "cell_type": "markdown",
   "metadata": {},
   "source": [
    "Students bar are located out the centre, farther away\n",
    "but:\n",
    "    1. not very safe/good environment for bikes and steps: altitude, bumpy road, traffic, ...\n",
    "    2. significant amout of students don't like to walk large distances at night.\n",
    "    3. car not a alternative for students + difficult to park\n",
    "    4. public transportation stops around 01h00\n"
   ]
  },
  {
   "cell_type": "markdown",
   "metadata": {},
   "source": [
    "With Foursquare data I track down the latitude and longitude of Sorority House + Fraternity + college residence hall with categoryId's. I make a list of Sleepplaces for students in the centre."
   ]
  },
  {
   "cell_type": "markdown",
   "metadata": {},
   "source": [
    "I  focus on city centre.\n",
    "- latitude = 50.85\n",
    "- longitude = 4.35\n",
    "- radius = 2000m"
   ]
  },
  {
   "cell_type": "code",
   "execution_count": null,
   "metadata": {},
   "outputs": [],
   "source": []
  },
  {
   "cell_type": "markdown",
   "metadata": {},
   "source": [
    "I look for each Sleepplace how many bars are close-by (categoryId ='4d4b7105d754a06376d81259' Nightlife)."
   ]
  },
  {
   "cell_type": "markdown",
   "metadata": {},
   "source": [
    "The less bars are very close to Sleepplaces for students, the better the possibility to become a new hotspot"
   ]
  },
  {
   "cell_type": "markdown",
   "metadata": {},
   "source": [
    "I classisfy the sleepplaces by amount of bars nearby."
   ]
  },
  {
   "cell_type": "code",
   "execution_count": null,
   "metadata": {},
   "outputs": [],
   "source": []
  }
 ],
 "metadata": {
  "kernelspec": {
   "display_name": "Python 3",
   "language": "python",
   "name": "python3"
  },
  "language_info": {
   "codemirror_mode": {
    "name": "ipython",
    "version": 3
   },
   "file_extension": ".py",
   "mimetype": "text/x-python",
   "name": "python",
   "nbconvert_exporter": "python",
   "pygments_lexer": "ipython3",
   "version": "3.7.6"
  }
 },
 "nbformat": 4,
 "nbformat_minor": 4
}
